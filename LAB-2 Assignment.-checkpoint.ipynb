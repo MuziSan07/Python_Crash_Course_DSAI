{
 "cells": [
  {
   "cell_type": "code",
   "execution_count": 1,
   "id": "ff2bac2f",
   "metadata": {},
   "outputs": [
    {
     "name": "stdout",
     "output_type": "stream",
     "text": [
      "-48\n"
     ]
    }
   ],
   "source": [
    "#Which of the following expressions results in SyntaxErrors? Identify the syntax\n",
    "#SyntaxErrors and type the reason of error along with the correct code by mentioning its\n",
    "#sequence number.\n",
    "print(6 * -----------8)\n"
   ]
  },
  {
   "cell_type": "code",
   "execution_count": 2,
   "id": "e0fbc798",
   "metadata": {},
   "outputs": [
    {
     "ename": "SyntaxError",
     "evalue": "expression cannot contain assignment, perhaps you meant \"==\"? (3438137219.py, line 1)",
     "output_type": "error",
     "traceback": [
      "\u001b[1;36m  Cell \u001b[1;32mIn[2], line 1\u001b[1;36m\u001b[0m\n\u001b[1;33m    print(8 = people)\u001b[0m\n\u001b[1;37m          ^\u001b[0m\n\u001b[1;31mSyntaxError\u001b[0m\u001b[1;31m:\u001b[0m expression cannot contain assignment, perhaps you meant \"==\"?\n"
     ]
    }
   ],
   "source": [
    "print(8 = people) "
   ]
  },
  {
   "cell_type": "code",
   "execution_count": null,
   "id": "8809df1b",
   "metadata": {},
   "outputs": [],
   "source": [
    "print(\"people=8\") #Strings weren't used in first one"
   ]
  },
  {
   "cell_type": "code",
   "execution_count": null,
   "id": "37b125be",
   "metadata": {},
   "outputs": [],
   "source": [
    "print(((4 ** 3))))"
   ]
  },
  {
   "cell_type": "code",
   "execution_count": null,
   "id": "2873295b",
   "metadata": {},
   "outputs": [],
   "source": [
    "print(((4 ** 3))) #An extra bracket was used above"
   ]
  },
  {
   "cell_type": "code",
   "execution_count": null,
   "id": "9e0a49a3",
   "metadata": {},
   "outputs": [],
   "source": [
    "print(-(-(-(-5))))"
   ]
  },
  {
   "cell_type": "code",
   "execution_count": null,
   "id": "4c640107",
   "metadata": {},
   "outputs": [],
   "source": [
    "print(4 += 7 / 2)"
   ]
  },
  {
   "cell_type": "code",
   "execution_count": null,
   "id": "bc59a029",
   "metadata": {},
   "outputs": [],
   "source": [
    "print(4 + 7 / 2) #condition in it makes invalid syntax"
   ]
  },
  {
   "cell_type": "code",
   "execution_count": null,
   "id": "06b797d8",
   "metadata": {},
   "outputs": [],
   "source": [
    "#Using only the techniques you have learned so far, write a program that calculates the square\n",
    "#and cube of the numbers from 0 to 10 and uses tabs to print the following table of values:\n",
    "print(\"Number\\tSquare\\tCube\")\n",
    "\n",
    "for num in range(11):\n",
    "    square= num*num\n",
    "    cube= num* num* num\n",
    "    print(str(num) + \"\\t\" + str(square) + \"\\t\" + str(cube))"
   ]
  },
  {
   "cell_type": "code",
   "execution_count": null,
   "id": "c85f33ef",
   "metadata": {},
   "outputs": [],
   "source": [
    "#Write a program that assigns values to two variables and then swap their values. \n",
    "x = 10\n",
    "y = 5\n",
    "\n",
    "print(\"x =\" , x)\n",
    "print(\"y =\" , y)\n",
    "\n",
    "x = x + y\n",
    "y = x - y\n",
    "x = x - y\n",
    "\n",
    "print(\"After swapping:\")\n",
    "print(\"x =\" , x)\n",
    "print(\"y =\" , y)"
   ]
  },
  {
   "cell_type": "code",
   "execution_count": null,
   "id": "3bf2bae8",
   "metadata": {},
   "outputs": [],
   "source": [
    "#Write a program that inputs one five-digit number, generates its reverse and displays the\n",
    "#reverse on screen.\n",
    "number = int(input(\"Enter a five-digit number:\"))\n",
    "digit5 = number% 10\n",
    "digit4 = (number // 10) % 10\n",
    "digit3 = (number // 100) % 10\n",
    "digit2 = (number // 1000) % 10\n",
    "digit1 = (number // 10000) % 10\n",
    "\n",
    "reverse= digit5 * 10000 + digit4 * 1000 + digit3 * 100 + digit2 * 10 + digit1\n",
    "print(\"The reverse of\", number, \"is\", reverse)"
   ]
  },
  {
   "cell_type": "code",
   "execution_count": 13,
   "id": "e3089229",
   "metadata": {},
   "outputs": [
    {
     "name": "stdout",
     "output_type": "stream",
     "text": [
      "Box:\n",
      "********\n",
      "*      *\n",
      "*      *\n",
      "*      *\n",
      "*      *\n",
      "*      *\n",
      "*      *\n",
      "*      *\n",
      "********\n",
      "Oval:\n",
      "   ***   \n",
      " *     * \n",
      "*       *\n",
      " *     * \n",
      "   ***   \n",
      "Arrow:\n",
      "    *    \n",
      "   ***   \n",
      "  *****  \n",
      "    *    \n",
      "    *    \n",
      "diamond:\n",
      "    *    \n",
      "   ***   \n",
      "  *****  \n",
      "   ***   \n",
      "    *    \n"
     ]
    }
   ],
   "source": [
    "#Using whatever we have learned so far, write a program that prints a box, an oval, an\n",
    "#arrow and a diamond\n",
    "print(\"Box:\")      \n",
    "print(\"********\")\n",
    "print(\"*      *\")\n",
    "print(\"*      *\")\n",
    "print(\"*      *\")\n",
    "print(\"*      *\")\n",
    "print(\"*      *\")\n",
    "print(\"*      *\")\n",
    "print(\"*      *\")\n",
    "print(\"********\")\n",
    "\n",
    "print(\"Oval:\")\n",
    "print(\"   ***   \")\n",
    "print(\" *     * \")\n",
    "print(\"*       *\")\n",
    "print(\" *     * \")\n",
    "print(\"   ***   \")\n",
    "\n",
    "print(\"Arrow:\")\n",
    "print(\"    *    \")\n",
    "print(\"   ***   \")\n",
    "print(\"  *****  \")\n",
    "print(\"    *    \")\n",
    "print(\"    *    \")\n",
    "\n",
    "print(\"diamond:\")\n",
    "print(\"    *    \")\n",
    "print(\"   ***   \")\n",
    "print(\"  *****  \")\n",
    "print(\"   ***   \")\n",
    "print(\"    *    \")\n"
   ]
  },
  {
   "cell_type": "code",
   "execution_count": 3,
   "id": "b475a9b9",
   "metadata": {},
   "outputs": [
    {
     "name": "stdout",
     "output_type": "stream",
     "text": [
      "Enter the first integer:4\n",
      "Enter the second integer:4\n",
      "Enter the third unteger4\n",
      "The three integers are not the sides of a right triangle:\n"
     ]
    }
   ],
   "source": [
    "#Write a program that reads three nonzero integers and determines and prints if they could be\n",
    "#the sides of a right triangle.\n",
    "a = int(input(\"Enter the first integer:\"))\n",
    "b = int(input(\"Enter the second integer:\"))\n",
    "c = int(input(\"Enter the third unteger\"))\n",
    "\n",
    "if a**2 + b**2 == c**2 or a**2 + c**2 == b**2 or b**2 + c**2 == a**2:\n",
    "    print(\"The three integers are the sides of a right triangle.\")\n",
    "else:\n",
    "    print(\"The three integers are not the sides of a right triangle.\")"
   ]
  },
  {
   "cell_type": "code",
   "execution_count": 6,
   "id": "3cea4a20",
   "metadata": {},
   "outputs": [
    {
     "name": "stdout",
     "output_type": "stream",
     "text": [
      "Enter a score between 0.0 and 1.0:0.9\n",
      "Grade:  A\n"
     ]
    }
   ],
   "source": [
    "#Write a program to prompt for a score between 0.0 and 1.0. If the score is out of range, print\n",
    "#an error message.\n",
    "score = float(input(\"Enter a score between 0.0 and 1.0:\"))\n",
    "\n",
    "if score < 0.0 or score > 1.0:\n",
    "    print(\"Error: Score is out of range.\")\n",
    "else:\n",
    "    if score >= 0.9:\n",
    "        grade= 'A'\n",
    "    elif score >= 0.8:\n",
    "        grade= 'B'\n",
    "    elif score >= 0.7:\n",
    "        grade = 'C'\n",
    "    elif score >= 0.6:\n",
    "        grade = 'D'\n",
    "    else:\n",
    "         grade = 'F'\n",
    "    print(\"Grade: \", grade)"
   ]
  },
  {
   "cell_type": "code",
   "execution_count": null,
   "id": "11a1a566",
   "metadata": {},
   "outputs": [],
   "source": []
  }
 ],
 "metadata": {
  "kernelspec": {
   "display_name": "Python 3 (ipykernel)",
   "language": "python",
   "name": "python3"
  },
  "language_info": {
   "codemirror_mode": {
    "name": "ipython",
    "version": 3
   },
   "file_extension": ".py",
   "mimetype": "text/x-python",
   "name": "python",
   "nbconvert_exporter": "python",
   "pygments_lexer": "ipython3",
   "version": "3.10.9"
  }
 },
 "nbformat": 4,
 "nbformat_minor": 5
}
