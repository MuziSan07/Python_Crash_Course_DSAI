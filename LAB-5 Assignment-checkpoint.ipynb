{
 "cells": [
  {
   "cell_type": "code",
   "execution_count": 3,
   "id": "44025d65",
   "metadata": {},
   "outputs": [
    {
     "name": "stdout",
     "output_type": "stream",
     "text": [
      "Enter any sentence:iuiuhuii urhihe \n",
      "Uppercase: IUIUHUII URHIHE \n",
      "Lowercase: iuiuhuii urhihe \n"
     ]
    }
   ],
   "source": [
    "#1. Write a program that inputs a line of text. Output the text in uppercase letters and in\n",
    "#lowercase letters using built-in functions.\n",
    "x = input(\"Enter any sentence:\")\n",
    "upper_text = x.upper()\n",
    "lower_text = x.lower()\n",
    "\n",
    "print(\"Uppercase:\", upper_text)\n",
    "print(\"Lowercase:\", lower_text)"
   ]
  },
  {
   "cell_type": "code",
   "execution_count": 12,
   "id": "0f8e952d",
   "metadata": {},
   "outputs": [
    {
     "name": "stdout",
     "output_type": "stream",
     "text": [
      "Enter a sentance:he he he\n",
      "Estimated number of words: 3\n"
     ]
    }
   ],
   "source": [
    "#2. A simple way to estimate the number of words in a string is to count the number of\n",
    "#spaces in the string. Write a program that asks the user for a string and returns an\n",
    "#estimate of how many words are in the string.\n",
    "x = input(\"Enter a sentance:\")\n",
    "num_spaces = text.count(' ')\n",
    "num_words = num_spaces + 1\n",
    "print(\"Estimated number of words:\", num_words)"
   ]
  },
  {
   "cell_type": "code",
   "execution_count": 5,
   "id": "b843931d",
   "metadata": {},
   "outputs": [
    {
     "name": "stdout",
     "output_type": "stream",
     "text": [
      "Enter a sentence:HEllow ,. how arE ,. UH\n",
      "Resulting: hellow how are uh\n"
     ]
    }
   ],
   "source": [
    "#3. Write a program that asks the user to enter a string s and then converts s to lowercase,\n",
    "#removes all the periods and commas from s, and prints the resulting string.\n",
    "s = input(\"Enter a sentence:\")\n",
    "s = s.lower()\n",
    "s = s.replace('.','').replace(',','')\n",
    "words = s.split()\n",
    "result =' '.join(words)\n",
    "print(\"Resulting:\", result)"
   ]
  },
  {
   "cell_type": "code",
   "execution_count": 6,
   "id": "75d2c840",
   "metadata": {},
   "outputs": [
    {
     "name": "stdout",
     "output_type": "stream",
     "text": [
      "[4353, 2314, 2956, 9362, 3900]\n"
     ]
    }
   ],
   "source": [
    "#4. A variable ids refers to the list [4353, 2314, 2956, 3382, 9362, 3900]. Using list\n",
    "#methods, do the following:\n",
    "#a. Remove 3382 from the list.\n",
    "ids = [4353, 2314, 2956, 3382, 9362, 3900]\n",
    "\n",
    "ids.remove(3382)\n",
    "print(ids)"
   ]
  },
  {
   "cell_type": "code",
   "execution_count": 7,
   "id": "55514aa4",
   "metadata": {},
   "outputs": [
    {
     "name": "stdout",
     "output_type": "stream",
     "text": [
      "3\n"
     ]
    }
   ],
   "source": [
    "#b. Get the index of 9362.\n",
    "index_9362 = ids.index(9362)\n",
    "print(index_9362)"
   ]
  },
  {
   "cell_type": "code",
   "execution_count": 8,
   "id": "54527a69",
   "metadata": {},
   "outputs": [
    {
     "name": "stdout",
     "output_type": "stream",
     "text": [
      "[4353, 2314, 2956, 9362, 4499, 3900]\n"
     ]
    }
   ],
   "source": [
    "#c. Insert 4499 in the list after 9362.\n",
    "ids.insert(index_9362 + 1, 4499)\n",
    "print(ids)"
   ]
  },
  {
   "cell_type": "code",
   "execution_count": 9,
   "id": "14de7757",
   "metadata": {},
   "outputs": [
    {
     "name": "stdout",
     "output_type": "stream",
     "text": [
      "[4353, 2314, 2956, 9362, 4499, 3900, 5566, 1830]\n"
     ]
    }
   ],
   "source": [
    "#d. Extend the list by adding [5566, 1830] to it.\n",
    "ids.extend([5566, 1830])\n",
    "print(ids)"
   ]
  },
  {
   "cell_type": "code",
   "execution_count": 10,
   "id": "99db5068",
   "metadata": {},
   "outputs": [
    {
     "name": "stdout",
     "output_type": "stream",
     "text": [
      "[1830, 5566, 3900, 4499, 9362, 2956, 2314, 4353]\n"
     ]
    }
   ],
   "source": [
    "#e. Reverse the list.\n",
    "ids.reverse()\n",
    "print(ids)"
   ]
  },
  {
   "cell_type": "code",
   "execution_count": 11,
   "id": "620e5bf7",
   "metadata": {},
   "outputs": [
    {
     "name": "stdout",
     "output_type": "stream",
     "text": [
      "[1830, 2314, 2956, 3900, 4353, 4499, 5566, 9362]\n"
     ]
    }
   ],
   "source": [
    "#f. Sort the list.\n",
    "ids.sort()\n",
    "print(ids)"
   ]
  },
  {
   "cell_type": "code",
   "execution_count": 12,
   "id": "3e38b26b",
   "metadata": {},
   "outputs": [
    {
     "name": "stdout",
     "output_type": "stream",
     "text": [
      "Outcome\tPercentage\n",
      "-------------------\n",
      "2\t\t2.93%\n",
      "3\t\t5.41%\n",
      "4\t\t8.63%\n",
      "5\t\t10.86%\n",
      "6\t\t13.96%\n",
      "7\t\t16.94%\n",
      "8\t\t14.25%\n",
      "9\t\t11.38%\n",
      "10\t\t7.98%\n",
      "11\t\t5.21%\n",
      "12\t\t2.45%\n"
     ]
    }
   ],
   "source": [
    "#5. When playing games where you have to roll two dice, it is nice to know the odds of each\n",
    "#roll. For instance, the odds of rolling a 12 are about 3%, and the odds of rolling a 7 are\n",
    "#about 17%. You can compute these mathematically, but if you don’t know the math, you\n",
    "#can write a program to do it. To do this, your program should simulate rolling two dice\n",
    "#about 10,000 times and compute and print out the percentage of rolls that come out to\n",
    "#be 2, 3, 4, . . . , 12. Print the results in a table format.\n",
    "import random\n",
    "num_rolls = 10000\n",
    "outcomes = {i: 0 for i in range(2, 13)}\n",
    "for _ in range(num_rolls):\n",
    "    dice1 = random.randint(1, 6)\n",
    "    dice2 = random.randint(1, 6)\n",
    "    total = dice1 + dice2\n",
    "    outcomes[total] += 1\n",
    "percentages = {key: (value / num_rolls) * 100 for key, value in outcomes.items()}\n",
    "print(\"Outcome\\tPercentage\")\n",
    "print(\"-------------------\")\n",
    "for outcome, percentage in percentages.items():\n",
    "    print(f\"{outcome}\\t\\t{percentage:.2f}%\")"
   ]
  },
  {
   "cell_type": "code",
   "execution_count": 18,
   "id": "fa1382e0",
   "metadata": {},
   "outputs": [
    {
     "name": "stdout",
     "output_type": "stream",
     "text": [
      "Original List: [1, 2, 3, 4, 5]\n",
      "Rotated LIst: [5, 1, 2, 3, 4]\n"
     ]
    }
   ],
   "source": [
    "#7. Write a program that rotates the elements of a list so that the element at the first index\n",
    "#moves to the second index, the element in the second index moves to the third index,\n",
    "#etc., and the element in the last index moves to the first index.\n",
    "def rotate_list(lst):\n",
    "    rotated = [lst[-1]] + lst[:-1]\n",
    "    return rotated\n",
    "original_list = [1, 2, 3, 4, 5]\n",
    "rotated_list = rotate_list(original_list)\n",
    "print(\"Original List:\", original_list)\n",
    "print(\"Rotated LIst:\", rotated_list)"
   ]
  },
  {
   "cell_type": "code",
   "execution_count": 19,
   "id": "3cf298f4",
   "metadata": {},
   "outputs": [
    {
     "name": "stdout",
     "output_type": "stream",
     "text": [
      "Random Integers: [1, 0, 0, 1, 1, 1, 0, 0, 1, 1, 0, 1, 0, 1, 1, 1, 1, 0, 1, 0, 0, 0, 1, 0, 0, 0, 1, 1, 1, 1, 0, 1, 0, 0, 1, 1, 0, 0, 1, 1, 0, 1, 1, 1, 1, 1, 0, 1, 1, 1, 1, 1, 1, 0, 0, 1, 1, 1, 1, 0, 1, 0, 1, 0, 0, 0, 1, 0, 1, 0, 0, 1, 1, 1, 1, 1, 1, 0, 1, 0, 0, 1, 1, 0, 1, 0, 0, 1, 1, 1, 1, 1, 1, 1, 0, 0, 1, 1, 1, 0]\n",
      "Longest Run of Zeros: 3\n"
     ]
    }
   ],
   "source": [
    "#8. Write a program that generates 100 random integers that are either 0 or 1. Then find the longest\n",
    "#run of zeros, the largest number of zeros in a row. For instance, the longest run of zeros in\n",
    "#[1,0,1,1,0,0,0,0,1,0,0] is 4.\n",
    "import random\n",
    "random_integers = [random.randint(0, 1) for _ in range(100)]\n",
    "max_zeros = 0\n",
    "current_zeros = 0\n",
    "for num in random_integers:\n",
    "    if num == 0:\n",
    "        current_zeros += 1\n",
    "        if current_zeros > max_zeros:\n",
    "            max_zeros = current_zeros\n",
    "    else:\n",
    "        current_zeros = 0\n",
    "print(\"Random Integers:\", random_integers)\n",
    "print(\"Longest Run of Zeros:\", max_zeros)"
   ]
  },
  {
   "cell_type": "code",
   "execution_count": 20,
   "id": "5750f111",
   "metadata": {},
   "outputs": [
    {
     "name": "stdout",
     "output_type": "stream",
     "text": [
      "Enter the size of the matrix: 2\n",
      "Enter elements for the original matrix:\n",
      "Enter an element: 2\n",
      "Enter an element: 3\n",
      "Enter an element: 4\n",
      "Enter an element: 5\n",
      "Original Matrix:\n",
      "2 3\n",
      "4 5\n",
      "Transposed Matrix:\n",
      "2 4\n",
      "3 5\n",
      "Enter elements for the second matrix:\n",
      "Enter an element: 4\n",
      "Enter an element: 3\n",
      "Enter an element: 4\n",
      "Enter an element: 3\n",
      "Product Matrix:\n",
      "20 15\n",
      "36 27\n"
     ]
    }
   ],
   "source": [
    "#9. Read the size of the matrix from the user. Populate it with data from the user. Print the\n",
    "#original ,transpose and product of the matrices on the screen\n",
    "def read_matrix(size):\n",
    "    matrix = []\n",
    "    for _ in range(size):\n",
    "        row = []\n",
    "        for _ in range(size):\n",
    "            element = int(input(\"Enter an element: \"))\n",
    "            row.append(element)\n",
    "        matrix.append(row)\n",
    "    return matrix\n",
    "\n",
    "def print_matrix(matrix):\n",
    "    for row in matrix:\n",
    "        print(\" \".join(str(element) for element in row))\n",
    "\n",
    "def transpose_matrix(matrix):\n",
    "    size = len(matrix)\n",
    "    transposed_matrix = []\n",
    "    for i in range(size):\n",
    "        transposed_row = [matrix[j][i] for j in range(size)]\n",
    "        transposed_matrix.append(transposed_row)\n",
    "    return transposed_matrix\n",
    "\n",
    "def multiply_matrices(matrix1, matrix2):\n",
    "    size = len(matrix1)\n",
    "    result_matrix = []\n",
    "    for i in range(size):\n",
    "        row = []\n",
    "        for j in range(size):\n",
    "            element = 0\n",
    "            for k in range(size):\n",
    "                element += matrix1[i][k] * matrix2[k][j]\n",
    "            row.append(element)\n",
    "        result_matrix.append(row)\n",
    "    return result_matrix\n",
    "\n",
    "size = int(input(\"Enter the size of the matrix: \"))\n",
    "\n",
    "print(\"Enter elements for the original matrix:\")\n",
    "original_matrix = read_matrix(size)\n",
    "\n",
    "print(\"Original Matrix:\")\n",
    "print_matrix(original_matrix)\n",
    "\n",
    "transposed_matrix = transpose_matrix(original_matrix)\n",
    "print(\"Transposed Matrix:\")\n",
    "print_matrix(transposed_matrix)\n",
    "\n",
    "print(\"Enter elements for the second matrix:\")\n",
    "second_matrix = read_matrix(size)\n",
    "\n",
    "product_matrix = multiply_matrices(original_matrix, second_matrix)\n",
    "print(\"Product Matrix:\")\n",
    "print_matrix(product_matrix)"
   ]
  },
  {
   "cell_type": "code",
   "execution_count": null,
   "id": "f26f864e",
   "metadata": {},
   "outputs": [],
   "source": []
  }
 ],
 "metadata": {
  "kernelspec": {
   "display_name": "Python 3 (ipykernel)",
   "language": "python",
   "name": "python3"
  },
  "language_info": {
   "codemirror_mode": {
    "name": "ipython",
    "version": 3
   },
   "file_extension": ".py",
   "mimetype": "text/x-python",
   "name": "python",
   "nbconvert_exporter": "python",
   "pygments_lexer": "ipython3",
   "version": "3.10.9"
  }
 },
 "nbformat": 4,
 "nbformat_minor": 5
}
